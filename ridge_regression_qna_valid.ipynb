{
 "cells": [
  {
   "cell_type": "markdown",
   "id": "19c9fbac",
   "metadata": {},
   "source": [
    "### Question no. 1 - What is Ridge Regression, and how does it differ from ordinary least squares regression?"
   ]
  },
  {
   "cell_type": "markdown",
   "id": "d6a8ed66",
   "metadata": {},
   "source": [
    "**Answer no. 1** -\n",
    "Ridge Regression is a type of linear regression that includes a regularization term (L2 penalty). While ordinary least squares (OLS) minimizes the sum of squared residuals, Ridge Regression minimizes the sum of squared residuals plus a penalty term proportional to the square of the magnitude of the coefficients.\n",
    "\n",
    "Mathematically:\n",
    "OLS objective: \\( \\min_{\\beta} \\sum_{i=1}^n (y_i - X_i\\beta)^2 \\)\n",
    "Ridge objective: \\( \\min_{\\beta} \\sum_{i=1}^n (y_i - X_i\\beta)^2 + \\lambda \\sum_{j=1}^p \\beta_j^2 \\)\n",
    "Here, \\( \\lambda \\) is the regularization parameter. Ridge regression shrinks the coefficients and is especially useful when multicollinearity is present."
   ]
  },
  {
   "cell_type": "markdown",
   "id": "9881a497",
   "metadata": {},
   "source": [
    "### Question no. 2 - What are the assumptions of Ridge Regression?"
   ]
  },
  {
   "cell_type": "markdown",
   "id": "3a67fdb4",
   "metadata": {},
   "source": [
    "**Answer no. 2** -\n",
    "Ridge Regression shares most assumptions with ordinary least squares regression:\n",
    "1. **Linearity**\n",
    "2. **Independence**\n",
    "3. **Homoscedasticity**\n",
    "4. **Normality**\n",
    "However, Ridge Regression relaxes the assumption of no multicollinearity."
   ]
  },
  {
   "cell_type": "markdown",
   "id": "756ec3a1",
   "metadata": {},
   "source": [
    "### Question no. 3 - How do you select the value of the tuning parameter (lambda) in Ridge Regression?"
   ]
  },
  {
   "cell_type": "markdown",
   "id": "e9540e4d",
   "metadata": {},
   "source": [
    "**Answer no. 3** -\n",
    "Use cross-validation (e.g., k-fold cross-validation) to select the best value of lambda that minimizes the validation error."
   ]
  },
  {
   "cell_type": "markdown",
   "id": "a757c3ea",
   "metadata": {},
   "source": [
    "### Question no. 4 - Can Ridge Regression be used for feature selection? If yes, how?"
   ]
  },
  {
   "cell_type": "markdown",
   "id": "890365ca",
   "metadata": {},
   "source": [
    "**Answer no. 4** -\n",
    "Ridge Regression does not perform feature selection as it does not set coefficients to zero. It only shrinks them."
   ]
  },
  {
   "cell_type": "markdown",
   "id": "f02ed202",
   "metadata": {},
   "source": [
    "### Question no. 5 - How does the Ridge Regression model perform in the presence of multicollinearity?"
   ]
  },
  {
   "cell_type": "markdown",
   "id": "e13518e1",
   "metadata": {},
   "source": [
    "**Answer no. 5** -\n",
    "Ridge Regression performs well in the presence of multicollinearity as it stabilizes coefficient estimates by shrinking them."
   ]
  },
  {
   "cell_type": "markdown",
   "id": "101cf532",
   "metadata": {},
   "source": [
    "### Question no. 6 - Can Ridge Regression handle both categorical and continuous independent variables?"
   ]
  },
  {
   "cell_type": "markdown",
   "id": "4b66db12",
   "metadata": {},
   "source": [
    "**Answer no. 6** -\n",
    "Yes, as long as categorical variables are encoded (e.g., one-hot encoding), Ridge Regression can handle them."
   ]
  },
  {
   "cell_type": "markdown",
   "id": "c6952a79",
   "metadata": {},
   "source": [
    "### Question no. 7 - How do you interpret the coefficients of Ridge Regression?"
   ]
  },
  {
   "cell_type": "markdown",
   "id": "eece4c9b",
   "metadata": {},
   "source": [
    "**Answer no. 7** -\n",
    "The interpretation is similar to OLS, but the coefficients are biased due to the regularization term."
   ]
  },
  {
   "cell_type": "markdown",
   "id": "4970626e",
   "metadata": {},
   "source": [
    "### Question no. 8 - Can Ridge Regression be used for time-series data analysis? If yes, how?"
   ]
  },
  {
   "cell_type": "markdown",
   "id": "b9811109",
   "metadata": {},
   "source": [
    "**Answer no. 8** -\n",
    "Yes, with feature engineering (e.g., lagged variables), Ridge Regression can be applied to time-series data using proper time-aware cross-validation."
   ]
  }
 ],
 "metadata": {},
 "nbformat": 4,
 "nbformat_minor": 5
}
