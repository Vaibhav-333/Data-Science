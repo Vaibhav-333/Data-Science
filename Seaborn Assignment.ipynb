{
 "cells": [
  {
   "cell_type": "code",
   "execution_count": null,
   "id": "404db9da",
   "metadata": {},
   "outputs": [],
   "source": [
    "import numpy as np\n",
    "\n",
    "# Given code\n",
    "list_ = ['1', '2', '3', '4', '5']\n",
    "array_list = np.array(object=list_)\n",
    "\n",
    "# Question 1: Difference in data types\n",
    "print(\"Q1. Data types of list_ and array_list:\")\n",
    "print(f\"Type of list_: {type(list_)}\")\n",
    "print(f\"Type of array_list: {type(array_list)}\\n\")\n",
    "\n",
    "# Question 2: Data type of each element\n",
    "print(\"Q2. Data types of elements:\")\n",
    "print(\"Elements in list_:\")\n",
    "for item in list_:\n",
    "    print(type(item))\n",
    "    \n",
    "print(\"\\nElements in array_list:\")\n",
    "for item in array_list:\n",
    "    print(type(item))\n",
    "\n",
    "# Question 3: Modified array with dtype=int\n",
    "print(\"\\nQ3. After changing dtype to int:\")\n",
    "array_list_int = np.array(object=list_, dtype=int)\n",
    "print(\"Data type of array_list_int:\", type(array_list_int))\n",
    "print(\"Elements in array_list_int:\")\n",
    "for item in array_list_int:\n",
    "    print(type(item))"
   ]
  }
 ],
 "metadata": {
  "language_info": {
   "name": "python"
  }
 },
 "nbformat": 4,
 "nbformat_minor": 5
}
