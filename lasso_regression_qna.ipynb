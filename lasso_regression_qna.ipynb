
{
 "cells": [
  {
   "cell_type": "markdown",
   "metadata": {},
   "source": [
    "### Question no. 1 - What is Lasso Regression, and how does it differ from other regression techniques?"
   ]
  },
  {
   "cell_type": "markdown",
   "metadata": {},
   "source": [
    "**Answer no. 1** -\n",
    "Lasso Regression (Least Absolute Shrinkage and Selection Operator) is a linear regression technique that includes an L1 regularization term. Unlike OLS, it penalizes the absolute sum of the coefficients, which can shrink some coefficients to zero, thus performing variable selection.\n",
    "\n",
    "Lasso Objective: \( \min_{\beta} \sum_{i=1}^n (y_i - X_i\beta)^2 + \lambda \sum_{j=1}^p |\beta_j| \)"
   ]
  },
  {
   "cell_type": "markdown",
   "metadata": {},
   "source": [
    "### Question no. 2 - What is the main advantage of using Lasso Regression in feature selection?"
   ]
  },
  {
   "cell_type": "markdown",
   "metadata": {},
   "source": [
    "**Answer no. 2** -\n",
    "The main advantage is that Lasso Regression can **reduce the number of features** by forcing some coefficients to be exactly zero. This makes it a powerful method for **automatic feature selection**."
   ]
  },
  {
   "cell_type": "markdown",
   "metadata": {},
   "source": [
    "### Question no. 3 - How do you interpret the coefficients of a Lasso Regression model?"
   ]
  },
  {
   "cell_type": "markdown",
   "metadata": {},
   "source": [
    "**Answer no. 3** -\n",
    "Lasso coefficients represent the effect of predictors, just like in linear regression. However, due to the L1 penalty, many coefficients may be zero. Non-zero coefficients indicate selected features. Coefficients are **biased but sparse**."
   ]
  },
  {
   "cell_type": "markdown",
   "metadata": {},
   "source": [
    "### Question no. 4 - What are the tuning parameters that can be adjusted in Lasso Regression, and how do they affect the model's performance?"
   ]
  },
  {
   "cell_type": "markdown",
   "metadata": {},
   "source": [
    "**Answer no. 4** -\n",
    "The main tuning parameter is **lambda (\( \lambda \))**, which controls the strength of the L1 penalty.\n",
    "- Small \( \lambda \): minimal shrinkage, behaves like OLS.\n",
    "- Large \( \lambda \): more shrinkage, more coefficients become zero.\n",
    "It is chosen typically through cross-validation."
   ]
  },
  {
   "cell_type": "markdown",
   "metadata": {},
   "source": [
    "### Question no. 5 - Can Lasso Regression be used for non-linear regression problems? If yes, how?"
   ]
  },
  {
   "cell_type": "markdown",
   "metadata": {},
   "source": [
    "**Answer no. 5** -\n",
    "Yes, Lasso can be used for non-linear problems by **transforming input features** using basis expansions (e.g., polynomial features, splines) before applying Lasso. This allows capturing non-linearity while still benefiting from feature selection."
   ]
  },
  {
   "cell_type": "markdown",
   "metadata": {},
   "source": [
    "### Question no. 6 - What is the difference between Ridge Regression and Lasso Regression?"
   ]
  },
  {
   "cell_type": "markdown",
   "metadata": {},
   "source": [
    "**Answer no. 6** -\n",
    "The key difference lies in the type of penalty:\n",
    "- **Ridge** uses L2 penalty (\( \sum \beta_j^2 \)), which shrinks coefficients but does not set them to zero.\n",
    "- **Lasso** uses L1 penalty (\( \sum |\beta_j| \)), which can shrink coefficients to zero, enabling feature selection.\n",
    "Ridge is better for multicollinearity; Lasso is better for sparse solutions."
   ]
  },
  {
   "cell_type": "markdown",
   "metadata": {},
   "source": [
    "### Question no. 7 - Can Lasso Regression handle multicollinearity in the input features? If yes, how?"
   ]
  },
  {
   "cell_type": "markdown",
   "metadata": {},
   "source": [
    "**Answer no. 7** -\n",
    "Yes, Lasso can handle multicollinearity to some extent. It tends to select one feature among the correlated group and shrink the rest to zero. However, it may be unstable in the presence of high multicollinearity. In such cases, **Elastic Net** (combination of L1 and L2) is preferred."
   ]
  },
  {
   "cell_type": "markdown",
   "metadata": {},
   "source": [
    "### Question no. 8 - How do you choose the optimal value of the regularization parameter (lambda) in Lasso Regression?"
   ]
  },
  {
   "cell_type": "markdown",
   "metadata": {},
   "source": [
    "**Answer no. 8** -\n",
    "The optimal \( \lambda \) is usually selected using **cross-validation**.\n",
    "Procedure:\n",
    "1. Define a range of \( \lambda \) values.\n",
    "2. Fit the model on training data for each value.\n",
    "3. Evaluate on validation set.\n",
    "4. Choose \( \lambda \) that minimizes prediction error."
   ]
  }
 ],
 "metadata": {
  "kernelspec": {
   "display_name": "Python 3",
   "language": "python",
   "name": "python3"
  },
  "language_info": {
   "name": "python",
   "version": ""
  }
 },
 "nbformat": 4,
 "nbformat_minor": 5
}
