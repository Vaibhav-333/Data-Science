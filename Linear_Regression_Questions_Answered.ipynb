{
 "cells": [
  {
   "cell_type": "markdown",
   "metadata": {},
   "source": [
    "### Question no. 1 - Explain the difference between simple linear regression and multiple linear regression. Provide an example of each."
   ]
  },
  {
   "cell_type": "markdown",
   "metadata": {},
   "source": [
    "**Answer no. 1** -\n",
    "Simple linear regression involves a single independent variable to predict a dependent variable. The model takes the form:\n",
    "\n",
    "**y = β₀ + β₁x + ε**\n",
    "\n",
    "Example: Predicting a student's test score (y) based on hours studied (x).\n",
    "\n",
    "Multiple linear regression uses two or more independent variables to predict a dependent variable. The model looks like:\n",
    "\n",
    "**y = β₀ + β₁x₁ + β₂x₂ + ... + βₙxₙ + ε**\n",
    "\n",
    "Example: Predicting a student's test score (y) based on hours studied (x₁), sleep hours (x₂), and attendance percentage (x₃)."
   ]
  },
  {
   "cell_type": "markdown",
   "metadata": {},
   "source": [
    "### Question no. 2 - Discuss the assumptions of linear regression. How can you check whether these assumptions hold in a given dataset?"
   ]
  },
  {
   "cell_type": "markdown",
   "metadata": {},
   "source": [
    "**Answer no. 2** -\n",
    "Assumptions of linear regression:\n",
    "1. Linearity: The relationship between independent and dependent variables is linear.\n",
    "2. Independence: Observations are independent.\n",
    "3. Homoscedasticity: Constant variance of errors.\n",
    "4. Normality: Residuals should be normally distributed.\n",
    "5. No multicollinearity: Independent variables are not highly correlated.\n",
    "\n",
    "To check these assumptions:\n",
    "- Linearity: Use scatter plots or residual plots.\n",
    "- Independence: Durbin-Watson test.\n",
    "- Homoscedasticity: Residual vs fitted plot.\n",
    "- Normality: Q-Q plot or Shapiro-Wilk test.\n",
    "- Multicollinearity: Variance Inflation Factor (VIF)."
   ]
  },
  {
   "cell_type": "markdown",
   "metadata": {},
   "source": [
    "### Question no. 3 - How do you interpret the slope and intercept in a linear regression model? Provide an example using a real-world scenario."
   ]
  },
  {
   "cell_type": "markdown",
   "metadata": {},
   "source": [
    "**Answer no. 3** -\n",
    "In the model **y = β₀ + β₁x**:\n",
    "- **β₁ (slope)** represents the change in y for a one-unit increase in x.\n",
    "- **β₀ (intercept)** represents the expected value of y when x = 0.\n",
    "\n",
    "Example: Predicting house price (y) based on square footage (x):\n",
    "**Price = 50,000 + 200 × (Square Feet)**\n",
    "- Intercept: A house with 0 sq. ft. would cost $50,000 (hypothetical).\n",
    "- Slope: Each additional square foot adds $200 to the price."
   ]
  },
  {
   "cell_type": "markdown",
   "metadata": {},
   "source": [
    "### Question no. 4 - Explain the concept of gradient descent. How is it used in machine learning?"
   ]
  },
  {
   "cell_type": "markdown",
   "metadata": {},
   "source": [
    "**Answer no. 4** -\n",
    "Gradient Descent is an optimization algorithm used to minimize a loss function by iteratively updating model parameters in the direction of the negative gradient.\n",
    "\n",
    "In machine learning, it helps train models by finding the set of weights that minimize the error.\n",
    "\n",
    "Steps:\n",
    "1. Initialize weights.\n",
    "2. Compute gradient of loss.\n",
    "3. Update weights: \n",
    "   **w = w - α × (∂Loss/∂w)**\n",
    "4. Repeat until convergence."
   ]
  },
  {
   "cell_type": "markdown",
   "metadata": {},
   "source": [
    "### Question no. 5 - Describe the multiple linear regression model. How does it differ from simple linear regression?"
   ]
  },
  {
   "cell_type": "markdown",
   "metadata": {},
   "source": [
    "**Answer no. 5** -\n",
    "Multiple linear regression uses more than one predictor to model the response variable:\n",
    "**y = β₀ + β₁x₁ + β₂x₂ + ... + βₙxₙ + ε**\n",
    "\n",
    "Difference from simple linear regression:\n",
    "- Simple linear regression uses only one independent variable.\n",
    "- Multiple regression can capture more complex relationships using multiple inputs.\n",
    "\n",
    "Example: Predicting salary based on education, experience, and age."
   ]
  },
  {
   "cell_type": "markdown",
   "metadata": {},
   "source": [
    "### Question no. 6 - Explain the concept of multicollinearity in multiple linear regression. How can you detect and address this issue?"
   ]
  },
  {
   "cell_type": "markdown",
   "metadata": {},
   "source": [
    "**Answer no. 6** -\n",
    "Multicollinearity occurs when independent variables are highly correlated with each other, making coefficient estimates unstable.\n",
    "\n",
    "Detection:\n",
    "- Correlation matrix\n",
    "- Variance Inflation Factor (VIF) > 10 indicates a problem\n",
    "\n",
    "Remedies:\n",
    "- Remove one of the correlated variables\n",
    "- Use Principal Component Analysis (PCA)\n",
    "- Regularization techniques like Ridge or Lasso regression"
   ]
  },
  {
   "cell_type": "markdown",
   "metadata": {},
   "source": [
    "### Question no. 7 - Describe the polynomial regression model. How is it different from linear regression?"
   ]
  },
  {
   "cell_type": "markdown",
   "metadata": {},
   "source": [
    "**Answer no. 7** -\n",
    "Polynomial regression models the relationship as an nth-degree polynomial:\n",
    "**y = β₀ + β₁x + β₂x² + ... + βₙxⁿ + ε**\n",
    "\n",
    "Difference from linear regression:\n",
    "- Linear regression fits a straight line.\n",
    "- Polynomial regression fits a curve.\n",
    "\n",
    "Used when data shows a non-linear trend but is still modeled with linear combinations of polynomial terms."
   ]
  },
  {
   "cell_type": "markdown",
   "metadata": {},
   "source": [
    "### Question no. 8 - What are the advantages and disadvantages of polynomial regression compared to linear regression? In what situations would you prefer to use polynomial regression?"
   ]
  },
  {
   "cell_type": "markdown",
   "metadata": {},
   "source": [
    "**Answer no. 8** -\n",
    "Advantages:\n",
    "- Captures non-linear relationships\n",
    "- More flexible model\n",
    "\n",
    "Disadvantages:\n",
    "- Prone to overfitting\n",
    "- Less interpretable\n",
    "- Can lead to high variance\n",
    "\n",
    "Use polynomial regression when the data shows a clear non-linear trend that linear regression cannot capture."
   ]
  }
 ],
 "metadata": {
  "kernelspec": {
   "display_name": "Python 3",
   "language": "python",
   "name": "python3"
  },
  "language_info": {
   "name": "python",
   "version": ""
  }
 },
 "nbformat": 4,
 "nbformat_minor": 2
}
